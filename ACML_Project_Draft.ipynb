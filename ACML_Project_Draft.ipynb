{
  "nbformat": 4,
  "nbformat_minor": 0,
  "metadata": {
    "colab": {
      "name": "ACML-Project-Draft.ipynb",
      "provenance": [],
      "collapsed_sections": [],
      "authorship_tag": "ABX9TyNI/vQvRmg9lMECnjb/Tzif",
      "include_colab_link": true
    },
    "kernelspec": {
      "name": "python3",
      "display_name": "Python 3"
    },
    "language_info": {
      "name": "python"
    }
  },
  "cells": [
    {
      "cell_type": "markdown",
      "metadata": {
        "id": "view-in-github",
        "colab_type": "text"
      },
      "source": [
        "<a href=\"https://colab.research.google.com/github/RushilPatel0703/ACML_Project/blob/rushil/ACML_Project_Draft.ipynb\" target=\"_parent\"><img src=\"https://colab.research.google.com/assets/colab-badge.svg\" alt=\"Open In Colab\"/></a>"
      ]
    },
    {
      "cell_type": "code",
      "source": [
        "import pandas as pd\n",
        "import numpy as np\n",
        "import matplotlib.pyplot as plt\n",
        "import seaborn as sns\n",
        "from sklearn.ensemble import RandomForestClassifier, GradientBoostingClassifier, ExtraTreesClassifier\n",
        "from sklearn.metrics import f1_score\n",
        "from sklearn.model_selection import train_test_split\n",
        "from sklearn import metrics "
      ],
      "metadata": {
        "id": "1prFTxR-CoRv"
      },
      "execution_count": 1,
      "outputs": []
    },
    {
      "cell_type": "code",
      "source": [
        "# for importing data that is already on github\n",
        "url = 'https://raw.githubusercontent.com/RushilPatel0703/ACML_Project/main/data.csv'\n",
        "data = pd.read_csv(url)"
      ],
      "metadata": {
        "id": "OKZ5geTaCUF4"
      },
      "execution_count": 4,
      "outputs": []
    },
    {
      "cell_type": "code",
      "source": [
        "data.head()"
      ],
      "metadata": {
        "id": "eCcxXHHxCuWt",
        "outputId": "381b741b-2ca3-4925-d05d-e0618ded753d",
        "colab": {
          "base_uri": "https://localhost:8080/",
          "height": 386
        }
      },
      "execution_count": 5,
      "outputs": [
        {
          "output_type": "execute_result",
          "data": {
            "text/plain": [
              "   Bankrupt?   ROA(C) before interest and depreciation before interest  \\\n",
              "0          1                                           0.370594          \n",
              "1          1                                           0.464291          \n",
              "2          1                                           0.426071          \n",
              "3          1                                           0.399844          \n",
              "4          1                                           0.465022          \n",
              "\n",
              "    ROA(A) before interest and % after tax  \\\n",
              "0                                 0.424389   \n",
              "1                                 0.538214   \n",
              "2                                 0.499019   \n",
              "3                                 0.451265   \n",
              "4                                 0.538432   \n",
              "\n",
              "    ROA(B) before interest and depreciation after tax  \\\n",
              "0                                           0.405750    \n",
              "1                                           0.516730    \n",
              "2                                           0.472295    \n",
              "3                                           0.457733    \n",
              "4                                           0.522298    \n",
              "\n",
              "    Operating Gross Margin   Realized Sales Gross Margin  \\\n",
              "0                 0.601457                      0.601457   \n",
              "1                 0.610235                      0.610235   \n",
              "2                 0.601450                      0.601364   \n",
              "3                 0.583541                      0.583541   \n",
              "4                 0.598783                      0.598783   \n",
              "\n",
              "    Operating Profit Rate   Pre-tax net Interest Rate  \\\n",
              "0                0.998969                    0.796887   \n",
              "1                0.998946                    0.797380   \n",
              "2                0.998857                    0.796403   \n",
              "3                0.998700                    0.796967   \n",
              "4                0.998973                    0.797366   \n",
              "\n",
              "    After-tax net Interest Rate   Non-industry income and expenditure/revenue  \\\n",
              "0                      0.808809                                      0.302646   \n",
              "1                      0.809301                                      0.303556   \n",
              "2                      0.808388                                      0.302035   \n",
              "3                      0.808966                                      0.303350   \n",
              "4                      0.809304                                      0.303475   \n",
              "\n",
              "   ...   Net Income to Total Assets   Total assets to GNP price  \\\n",
              "0  ...                     0.716845                    0.009219   \n",
              "1  ...                     0.795297                    0.008323   \n",
              "2  ...                     0.774670                    0.040003   \n",
              "3  ...                     0.739555                    0.003252   \n",
              "4  ...                     0.795016                    0.003878   \n",
              "\n",
              "    No-credit Interval   Gross Profit to Sales  \\\n",
              "0             0.622879                0.601453   \n",
              "1             0.623652                0.610237   \n",
              "2             0.623841                0.601449   \n",
              "3             0.622929                0.583538   \n",
              "4             0.623521                0.598782   \n",
              "\n",
              "    Net Income to Stockholder's Equity   Liability to Equity  \\\n",
              "0                             0.827890              0.290202   \n",
              "1                             0.839969              0.283846   \n",
              "2                             0.836774              0.290189   \n",
              "3                             0.834697              0.281721   \n",
              "4                             0.839973              0.278514   \n",
              "\n",
              "    Degree of Financial Leverage (DFL)  \\\n",
              "0                             0.026601   \n",
              "1                             0.264577   \n",
              "2                             0.026555   \n",
              "3                             0.026697   \n",
              "4                             0.024752   \n",
              "\n",
              "    Interest Coverage Ratio (Interest expense to EBIT)   Net Income Flag  \\\n",
              "0                                           0.564050                   1   \n",
              "1                                           0.570175                   1   \n",
              "2                                           0.563706                   1   \n",
              "3                                           0.564663                   1   \n",
              "4                                           0.575617                   1   \n",
              "\n",
              "    Equity to Liability  \n",
              "0              0.016469  \n",
              "1              0.020794  \n",
              "2              0.016474  \n",
              "3              0.023982  \n",
              "4              0.035490  \n",
              "\n",
              "[5 rows x 96 columns]"
            ],
            "text/html": [
              "\n",
              "  <div id=\"df-35fb44b6-a69e-4fd1-9a5b-d38e2864e4b2\">\n",
              "    <div class=\"colab-df-container\">\n",
              "      <div>\n",
              "<style scoped>\n",
              "    .dataframe tbody tr th:only-of-type {\n",
              "        vertical-align: middle;\n",
              "    }\n",
              "\n",
              "    .dataframe tbody tr th {\n",
              "        vertical-align: top;\n",
              "    }\n",
              "\n",
              "    .dataframe thead th {\n",
              "        text-align: right;\n",
              "    }\n",
              "</style>\n",
              "<table border=\"1\" class=\"dataframe\">\n",
              "  <thead>\n",
              "    <tr style=\"text-align: right;\">\n",
              "      <th></th>\n",
              "      <th>Bankrupt?</th>\n",
              "      <th>ROA(C) before interest and depreciation before interest</th>\n",
              "      <th>ROA(A) before interest and % after tax</th>\n",
              "      <th>ROA(B) before interest and depreciation after tax</th>\n",
              "      <th>Operating Gross Margin</th>\n",
              "      <th>Realized Sales Gross Margin</th>\n",
              "      <th>Operating Profit Rate</th>\n",
              "      <th>Pre-tax net Interest Rate</th>\n",
              "      <th>After-tax net Interest Rate</th>\n",
              "      <th>Non-industry income and expenditure/revenue</th>\n",
              "      <th>...</th>\n",
              "      <th>Net Income to Total Assets</th>\n",
              "      <th>Total assets to GNP price</th>\n",
              "      <th>No-credit Interval</th>\n",
              "      <th>Gross Profit to Sales</th>\n",
              "      <th>Net Income to Stockholder's Equity</th>\n",
              "      <th>Liability to Equity</th>\n",
              "      <th>Degree of Financial Leverage (DFL)</th>\n",
              "      <th>Interest Coverage Ratio (Interest expense to EBIT)</th>\n",
              "      <th>Net Income Flag</th>\n",
              "      <th>Equity to Liability</th>\n",
              "    </tr>\n",
              "  </thead>\n",
              "  <tbody>\n",
              "    <tr>\n",
              "      <th>0</th>\n",
              "      <td>1</td>\n",
              "      <td>0.370594</td>\n",
              "      <td>0.424389</td>\n",
              "      <td>0.405750</td>\n",
              "      <td>0.601457</td>\n",
              "      <td>0.601457</td>\n",
              "      <td>0.998969</td>\n",
              "      <td>0.796887</td>\n",
              "      <td>0.808809</td>\n",
              "      <td>0.302646</td>\n",
              "      <td>...</td>\n",
              "      <td>0.716845</td>\n",
              "      <td>0.009219</td>\n",
              "      <td>0.622879</td>\n",
              "      <td>0.601453</td>\n",
              "      <td>0.827890</td>\n",
              "      <td>0.290202</td>\n",
              "      <td>0.026601</td>\n",
              "      <td>0.564050</td>\n",
              "      <td>1</td>\n",
              "      <td>0.016469</td>\n",
              "    </tr>\n",
              "    <tr>\n",
              "      <th>1</th>\n",
              "      <td>1</td>\n",
              "      <td>0.464291</td>\n",
              "      <td>0.538214</td>\n",
              "      <td>0.516730</td>\n",
              "      <td>0.610235</td>\n",
              "      <td>0.610235</td>\n",
              "      <td>0.998946</td>\n",
              "      <td>0.797380</td>\n",
              "      <td>0.809301</td>\n",
              "      <td>0.303556</td>\n",
              "      <td>...</td>\n",
              "      <td>0.795297</td>\n",
              "      <td>0.008323</td>\n",
              "      <td>0.623652</td>\n",
              "      <td>0.610237</td>\n",
              "      <td>0.839969</td>\n",
              "      <td>0.283846</td>\n",
              "      <td>0.264577</td>\n",
              "      <td>0.570175</td>\n",
              "      <td>1</td>\n",
              "      <td>0.020794</td>\n",
              "    </tr>\n",
              "    <tr>\n",
              "      <th>2</th>\n",
              "      <td>1</td>\n",
              "      <td>0.426071</td>\n",
              "      <td>0.499019</td>\n",
              "      <td>0.472295</td>\n",
              "      <td>0.601450</td>\n",
              "      <td>0.601364</td>\n",
              "      <td>0.998857</td>\n",
              "      <td>0.796403</td>\n",
              "      <td>0.808388</td>\n",
              "      <td>0.302035</td>\n",
              "      <td>...</td>\n",
              "      <td>0.774670</td>\n",
              "      <td>0.040003</td>\n",
              "      <td>0.623841</td>\n",
              "      <td>0.601449</td>\n",
              "      <td>0.836774</td>\n",
              "      <td>0.290189</td>\n",
              "      <td>0.026555</td>\n",
              "      <td>0.563706</td>\n",
              "      <td>1</td>\n",
              "      <td>0.016474</td>\n",
              "    </tr>\n",
              "    <tr>\n",
              "      <th>3</th>\n",
              "      <td>1</td>\n",
              "      <td>0.399844</td>\n",
              "      <td>0.451265</td>\n",
              "      <td>0.457733</td>\n",
              "      <td>0.583541</td>\n",
              "      <td>0.583541</td>\n",
              "      <td>0.998700</td>\n",
              "      <td>0.796967</td>\n",
              "      <td>0.808966</td>\n",
              "      <td>0.303350</td>\n",
              "      <td>...</td>\n",
              "      <td>0.739555</td>\n",
              "      <td>0.003252</td>\n",
              "      <td>0.622929</td>\n",
              "      <td>0.583538</td>\n",
              "      <td>0.834697</td>\n",
              "      <td>0.281721</td>\n",
              "      <td>0.026697</td>\n",
              "      <td>0.564663</td>\n",
              "      <td>1</td>\n",
              "      <td>0.023982</td>\n",
              "    </tr>\n",
              "    <tr>\n",
              "      <th>4</th>\n",
              "      <td>1</td>\n",
              "      <td>0.465022</td>\n",
              "      <td>0.538432</td>\n",
              "      <td>0.522298</td>\n",
              "      <td>0.598783</td>\n",
              "      <td>0.598783</td>\n",
              "      <td>0.998973</td>\n",
              "      <td>0.797366</td>\n",
              "      <td>0.809304</td>\n",
              "      <td>0.303475</td>\n",
              "      <td>...</td>\n",
              "      <td>0.795016</td>\n",
              "      <td>0.003878</td>\n",
              "      <td>0.623521</td>\n",
              "      <td>0.598782</td>\n",
              "      <td>0.839973</td>\n",
              "      <td>0.278514</td>\n",
              "      <td>0.024752</td>\n",
              "      <td>0.575617</td>\n",
              "      <td>1</td>\n",
              "      <td>0.035490</td>\n",
              "    </tr>\n",
              "  </tbody>\n",
              "</table>\n",
              "<p>5 rows × 96 columns</p>\n",
              "</div>\n",
              "      <button class=\"colab-df-convert\" onclick=\"convertToInteractive('df-35fb44b6-a69e-4fd1-9a5b-d38e2864e4b2')\"\n",
              "              title=\"Convert this dataframe to an interactive table.\"\n",
              "              style=\"display:none;\">\n",
              "        \n",
              "  <svg xmlns=\"http://www.w3.org/2000/svg\" height=\"24px\"viewBox=\"0 0 24 24\"\n",
              "       width=\"24px\">\n",
              "    <path d=\"M0 0h24v24H0V0z\" fill=\"none\"/>\n",
              "    <path d=\"M18.56 5.44l.94 2.06.94-2.06 2.06-.94-2.06-.94-.94-2.06-.94 2.06-2.06.94zm-11 1L8.5 8.5l.94-2.06 2.06-.94-2.06-.94L8.5 2.5l-.94 2.06-2.06.94zm10 10l.94 2.06.94-2.06 2.06-.94-2.06-.94-.94-2.06-.94 2.06-2.06.94z\"/><path d=\"M17.41 7.96l-1.37-1.37c-.4-.4-.92-.59-1.43-.59-.52 0-1.04.2-1.43.59L10.3 9.45l-7.72 7.72c-.78.78-.78 2.05 0 2.83L4 21.41c.39.39.9.59 1.41.59.51 0 1.02-.2 1.41-.59l7.78-7.78 2.81-2.81c.8-.78.8-2.07 0-2.86zM5.41 20L4 18.59l7.72-7.72 1.47 1.35L5.41 20z\"/>\n",
              "  </svg>\n",
              "      </button>\n",
              "      \n",
              "  <style>\n",
              "    .colab-df-container {\n",
              "      display:flex;\n",
              "      flex-wrap:wrap;\n",
              "      gap: 12px;\n",
              "    }\n",
              "\n",
              "    .colab-df-convert {\n",
              "      background-color: #E8F0FE;\n",
              "      border: none;\n",
              "      border-radius: 50%;\n",
              "      cursor: pointer;\n",
              "      display: none;\n",
              "      fill: #1967D2;\n",
              "      height: 32px;\n",
              "      padding: 0 0 0 0;\n",
              "      width: 32px;\n",
              "    }\n",
              "\n",
              "    .colab-df-convert:hover {\n",
              "      background-color: #E2EBFA;\n",
              "      box-shadow: 0px 1px 2px rgba(60, 64, 67, 0.3), 0px 1px 3px 1px rgba(60, 64, 67, 0.15);\n",
              "      fill: #174EA6;\n",
              "    }\n",
              "\n",
              "    [theme=dark] .colab-df-convert {\n",
              "      background-color: #3B4455;\n",
              "      fill: #D2E3FC;\n",
              "    }\n",
              "\n",
              "    [theme=dark] .colab-df-convert:hover {\n",
              "      background-color: #434B5C;\n",
              "      box-shadow: 0px 1px 3px 1px rgba(0, 0, 0, 0.15);\n",
              "      filter: drop-shadow(0px 1px 2px rgba(0, 0, 0, 0.3));\n",
              "      fill: #FFFFFF;\n",
              "    }\n",
              "  </style>\n",
              "\n",
              "      <script>\n",
              "        const buttonEl =\n",
              "          document.querySelector('#df-35fb44b6-a69e-4fd1-9a5b-d38e2864e4b2 button.colab-df-convert');\n",
              "        buttonEl.style.display =\n",
              "          google.colab.kernel.accessAllowed ? 'block' : 'none';\n",
              "\n",
              "        async function convertToInteractive(key) {\n",
              "          const element = document.querySelector('#df-35fb44b6-a69e-4fd1-9a5b-d38e2864e4b2');\n",
              "          const dataTable =\n",
              "            await google.colab.kernel.invokeFunction('convertToInteractive',\n",
              "                                                     [key], {});\n",
              "          if (!dataTable) return;\n",
              "\n",
              "          const docLinkHtml = 'Like what you see? Visit the ' +\n",
              "            '<a target=\"_blank\" href=https://colab.research.google.com/notebooks/data_table.ipynb>data table notebook</a>'\n",
              "            + ' to learn more about interactive tables.';\n",
              "          element.innerHTML = '';\n",
              "          dataTable['output_type'] = 'display_data';\n",
              "          await google.colab.output.renderOutput(dataTable, element);\n",
              "          const docLink = document.createElement('div');\n",
              "          docLink.innerHTML = docLinkHtml;\n",
              "          element.appendChild(docLink);\n",
              "        }\n",
              "      </script>\n",
              "    </div>\n",
              "  </div>\n",
              "  "
            ]
          },
          "metadata": {},
          "execution_count": 5
        }
      ]
    },
    {
      "cell_type": "code",
      "source": [
        "X = data.drop('Bankrupt?',axis=1)\n",
        "y = data['Bankrupt?']"
      ],
      "metadata": {
        "id": "a38-G5gBCxKV"
      },
      "execution_count": 6,
      "outputs": []
    },
    {
      "cell_type": "code",
      "source": [
        "X_train,X_test,y_train,y_test=train_test_split(X,y,test_size=0.2)"
      ],
      "metadata": {
        "id": "VKONB4_ItUzH"
      },
      "execution_count": 7,
      "outputs": []
    },
    {
      "cell_type": "code",
      "source": [
        "clf1 = RandomForestClassifier(n_estimators = 150) \n",
        "clf2 = RandomForestClassifier(n_estimators = 150,criterion='entropy',max_features='auto') \n",
        "clf3 = RandomForestClassifier(n_estimators = 150,criterion='entropy') "
      ],
      "metadata": {
        "id": "iH7MISVptU71"
      },
      "execution_count": 8,
      "outputs": []
    },
    {
      "cell_type": "code",
      "source": [
        "clf1.fit(X_train, y_train)\n",
        "clf2.fit(X_train, y_train)\n",
        "clf3.fit(X_train, y_train)"
      ],
      "metadata": {
        "id": "AaZj6bZWtU--",
        "outputId": "c683bd55-2222-459b-d376-814cdbac2add",
        "colab": {
          "base_uri": "https://localhost:8080/"
        }
      },
      "execution_count": 9,
      "outputs": [
        {
          "output_type": "execute_result",
          "data": {
            "text/plain": [
              "RandomForestClassifier(criterion='entropy', n_estimators=150)"
            ]
          },
          "metadata": {},
          "execution_count": 9
        }
      ]
    },
    {
      "cell_type": "code",
      "source": [
        "y_pred1 = clf1.predict(X_test)\n",
        "y_pred2 = clf2.predict(X_test)\n",
        "y_pred3 = clf3.predict(X_test)"
      ],
      "metadata": {
        "id": "x-wvK_GNtVBh"
      },
      "execution_count": 10,
      "outputs": []
    },
    {
      "cell_type": "code",
      "source": [
        "print(\"ACCURACY OF THE MODEL: \", metrics.accuracy_score(y_test, y_pred1))\n",
        "print(\"ACCURACY OF THE MODEL: \", metrics.accuracy_score(y_test, y_pred2))\n",
        "print(\"ACCURACY OF THE MODEL: \", metrics.accuracy_score(y_test, y_pred3))"
      ],
      "metadata": {
        "id": "3akmwdSntVEq",
        "outputId": "f10b71e1-3750-4b82-93f2-efb2cea91dc1",
        "colab": {
          "base_uri": "https://localhost:8080/"
        }
      },
      "execution_count": 11,
      "outputs": [
        {
          "output_type": "stream",
          "name": "stdout",
          "text": [
            "ACCURACY OF THE MODEL:  0.9780058651026393\n",
            "ACCURACY OF THE MODEL:  0.9772727272727273\n",
            "ACCURACY OF THE MODEL:  0.9780058651026393\n"
          ]
        }
      ]
    },
    {
      "cell_type": "code",
      "source": [
        "#simple feature importance\n",
        "feat = clf1.feature_importances"
      ],
      "metadata": {
        "id": "st-8j-AwtVHO"
      },
      "execution_count": null,
      "outputs": []
    },
    {
      "cell_type": "code",
      "source": [
        "feat"
      ],
      "metadata": {
        "id": "UqbTlMbFt_MK",
        "outputId": "67cf1e11-ae02-40f4-8953-dcabce88861b",
        "colab": {
          "base_uri": "https://localhost:8080/"
        }
      },
      "execution_count": null,
      "outputs": [
        {
          "output_type": "execute_result",
          "data": {
            "text/plain": [
              "array([0.01262815, 0.00902573, 0.01261947, 0.00678607, 0.00738839,\n",
              "       0.00612181, 0.01035306, 0.00798515, 0.01260114, 0.01198991,\n",
              "       0.01103122, 0.00673681, 0.00826977, 0.0145317 , 0.00267713,\n",
              "       0.01672046, 0.02040328, 0.01714456, 0.02987327, 0.00670179,\n",
              "       0.0094414 , 0.00673107, 0.0158535 , 0.00720706, 0.00664839,\n",
              "       0.007614  , 0.00672358, 0.00933684, 0.00729261, 0.02888318,\n",
              "       0.01056858, 0.00661519, 0.00914737, 0.01226606, 0.01508689,\n",
              "       0.01335255, 0.0172813 , 0.01475768, 0.00735386, 0.02105878,\n",
              "       0.00587965, 0.00637656, 0.01645713, 0.00735957, 0.00548804,\n",
              "       0.01276812, 0.01099486, 0.00816903, 0.01083091, 0.00694662,\n",
              "       0.01040946, 0.00879633, 0.01067469, 0.01016853, 0.00864963,\n",
              "       0.00767208, 0.01766727, 0.00982192, 0.01602797, 0.00824588,\n",
              "       0.00722761, 0.01202138, 0.00733205, 0.00820198, 0.01306755,\n",
              "       0.00800979, 0.00522711, 0.01127667, 0.0157041 , 0.00633941,\n",
              "       0.00783237, 0.00825899, 0.00581364, 0.00776228, 0.00768162,\n",
              "       0.0066573 , 0.00851785, 0.00709807, 0.00774788, 0.00820248,\n",
              "       0.00936023, 0.00603042, 0.00701235, 0.00872184, 0.00012099,\n",
              "       0.01709303, 0.01230655, 0.0108535 , 0.00721825, 0.02669909,\n",
              "       0.01126578, 0.01708645, 0.01671133, 0.        , 0.01532702])"
            ]
          },
          "metadata": {},
          "execution_count": 26
        }
      ]
    },
    {
      "cell_type": "code",
      "source": [
        "estimators = [10,50,60,90,100,150,200,250,300,400]\n",
        "accuracy1 = []\n",
        "accuracy2 = []\n",
        "accuracy3 = []"
      ],
      "metadata": {
        "id": "latZznw1uD2N"
      },
      "execution_count": 12,
      "outputs": []
    },
    {
      "cell_type": "code",
      "source": [
        "for i in range(0,10):\n",
        "    clf_loop1 = RandomForestClassifier(n_estimators = estimators[i])\n",
        "    clf_loop1.fit(X_train, y_train)\n",
        "    y_pred_loop1 = clf_loop1.predict(X_test)\n",
        "    accuracy1.append(metrics.accuracy_score(y_test, y_pred_loop1))"
      ],
      "metadata": {
        "id": "8tNYfilnMtdm"
      },
      "execution_count": 13,
      "outputs": []
    },
    {
      "cell_type": "code",
      "source": [
        "plt.plot(estimators,accuracy1)"
      ],
      "metadata": {
        "id": "RE7rcZcVMy1H",
        "outputId": "5e028c94-3f80-4dd0-8451-5661022e359a",
        "colab": {
          "base_uri": "https://localhost:8080/",
          "height": 283
        }
      },
      "execution_count": 14,
      "outputs": [
        {
          "output_type": "execute_result",
          "data": {
            "text/plain": [
              "[<matplotlib.lines.Line2D at 0x7eff675ce250>]"
            ]
          },
          "metadata": {},
          "execution_count": 14
        },
        {
          "output_type": "display_data",
          "data": {
            "text/plain": [
              "<Figure size 432x288 with 1 Axes>"
            ],
            "image/png": "[encoded data removed]"
          },
          "metadata": {
            "needs_background": "light"
          }
        }
      ]
    },
    {
      "cell_type": "code",
      "source": [
        "for i in range(0,10):\n",
        "    clf_loop2 = RandomForestClassifier(n_estimators = estimators[i],criterion='entropy')\n",
        "    clf_loop2.fit(X_train, y_train)\n",
        "    y_pred_loop2 = clf_loop2.predict(X_test)\n",
        "    accuracy2.append(metrics.accuracy_score(y_test, y_pred_loop2))"
      ],
      "metadata": {
        "id": "J6K2D-3-M0y1"
      },
      "execution_count": 15,
      "outputs": []
    },
    {
      "cell_type": "code",
      "source": [
        "plt.plot(estimators,accuracy2)"
      ],
      "metadata": {
        "id": "kz8Ox2QNM0fk",
        "outputId": "63da9f94-3da9-4849-a69e-ebe312acc9ea",
        "colab": {
          "base_uri": "https://localhost:8080/",
          "height": 283
        }
      },
      "execution_count": 16,
      "outputs": [
        {
          "output_type": "execute_result",
          "data": {
            "text/plain": [
              "[<matplotlib.lines.Line2D at 0x7eff670f0590>]"
            ]
          },
          "metadata": {},
          "execution_count": 16
        },
        {
          "output_type": "display_data",
          "data": {
            "text/plain": [
              "<Figure size 432x288 with 1 Axes>"
            ],
            "image/png": "[encoded data removed]"
          },
          "metadata": {
            "needs_background": "light"
          }
        }
      ]
    },
    {
      "cell_type": "code",
      "source": [
        "for i in range(0,10):\n",
        "    clf_loop3 = RandomForestClassifier(n_estimators = estimators[i],criterion='entropy',max_features='auto')\n",
        "    clf_loop3.fit(X_train, y_train)\n",
        "    y_pred_loop3 = clf_loop3.predict(X_test)\n",
        "    accuracy3.append(metrics.accuracy_score(y_test, y_pred_loop3))"
      ],
      "metadata": {
        "id": "9AEIk0fHMz59"
      },
      "execution_count": 17,
      "outputs": []
    },
    {
      "cell_type": "code",
      "source": [
        "plt.plot(estimators,accuracy3)"
      ],
      "metadata": {
        "id": "rN_EOQbGNuwJ",
        "outputId": "c62d5b75-5526-4442-af32-e009aa8d7316",
        "colab": {
          "base_uri": "https://localhost:8080/",
          "height": 283
        }
      },
      "execution_count": 18,
      "outputs": [
        {
          "output_type": "execute_result",
          "data": {
            "text/plain": [
              "[<matplotlib.lines.Line2D at 0x7eff66fee090>]"
            ]
          },
          "metadata": {},
          "execution_count": 18
        },
        {
          "output_type": "display_data",
          "data": {
            "text/plain": [
              "<Figure size 432x288 with 1 Axes>"
            ],
            "image/png": "[encoded data removed]"
          },
          "metadata": {
            "needs_background": "light"
          }
        }
      ]
    },
    {
      "cell_type": "code",
      "source": [
        ""
      ],
      "metadata": {
        "id": "IntPeHMUONhX"
      },
      "execution_count": null,
      "outputs": []
    }
  ]
}