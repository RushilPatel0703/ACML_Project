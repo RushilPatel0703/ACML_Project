{
  "nbformat": 4,
  "nbformat_minor": 0,
  "metadata": {
    "colab": {
      "name": "ACML-Project-Draft.ipynb",
      "provenance": [],
      "collapsed_sections": [],
      "toc_visible": true,
      "authorship_tag": "ABX9TyMz0PKgtD4N6guPogotP1c3",
      "include_colab_link": true
    },
    "kernelspec": {
      "name": "python3",
      "display_name": "Python 3"
    },
    "language_info": {
      "name": "python"
    }
  },
  "cells": [
    {
      "cell_type": "markdown",
      "metadata": {
        "id": "view-in-github",
        "colab_type": "text"
      },
      "source": [
        "<a href=\"https://colab.research.google.com/github/RushilPatel0703/ACML_Project/blob/main/ACML_Project_Draft.ipynb\" target=\"_parent\"><img src=\"https://colab.research.google.com/assets/colab-badge.svg\" alt=\"Open In Colab\"/></a>"
      ]
    },
    {
      "cell_type": "code",
      "execution_count": 2,
      "metadata": {
        "id": "kCMrzaId_EO-"
      },
      "outputs": [],
      "source": [
        "######## :) ########"
      ]
    },
    {
      "cell_type": "code",
      "source": [
        "####### test #######"
      ],
      "metadata": {
        "id": "FK0mRUn_AsUC"
      },
      "execution_count": null,
      "outputs": []
    }
  ]
}