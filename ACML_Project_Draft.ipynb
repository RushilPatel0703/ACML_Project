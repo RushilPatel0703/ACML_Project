{
  "nbformat": 4,
  "nbformat_minor": 0,
  "metadata": {
    "colab": {
      "name": "ACML-Project-Draft.ipynb",
      "provenance": [],
      "collapsed_sections": [],
      "toc_visible": true,
      "authorship_tag": "ABX9TyPkDvlFPBuTO4XdZvz01q4q",
      "include_colab_link": true
    },
    "kernelspec": {
      "name": "python3",
      "display_name": "Python 3"
    },
    "language_info": {
      "name": "python"
    }
  },
  "cells": [
    {
      "cell_type": "markdown",
      "metadata": {
        "id": "view-in-github",
        "colab_type": "text"
      },
      "source": [
        "<a href=\"https://colab.research.google.com/github/RushilPatel0703/ACML_Project/blob/test/ACML_Project_Draft.ipynb\" target=\"_parent\"><img src=\"https://colab.research.google.com/assets/colab-badge.svg\" alt=\"Open In Colab\"/></a>"
      ]
    },
    {
      "cell_type": "code",
      "execution_count": 2,
      "metadata": {
        "id": "kCMrzaId_EO-"
      },
      "outputs": [],
      "source": [
        "######## :) ########"
      ]
    },
    {
      "cell_type": "code",
      "source": [
        "####### test/commit #######"
      ],
      "metadata": {
        "id": "FK0mRUn_AsUC"
      },
      "execution_count": 3,
      "outputs": []
    },
    {
      "cell_type": "code",
      "source": [
        "############# test2/branch ###########"
      ],
      "metadata": {
        "id": "jWVWHNVzBbh-"
      },
      "execution_count": null,
      "outputs": []
    }
  ]
}