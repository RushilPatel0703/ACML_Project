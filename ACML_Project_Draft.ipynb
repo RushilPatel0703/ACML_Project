{
  "nbformat": 4,
  "nbformat_minor": 0,
  "metadata": {
    "colab": {
      "name": "ACML-Project-Draft.ipynb",
      "provenance": [],
      "collapsed_sections": [],
      "include_colab_link": true
    },
    "kernelspec": {
      "name": "python3",
      "display_name": "Python 3"
    },
    "language_info": {
      "name": "python"
    }
  },
  "cells": [
    {
      "cell_type": "markdown",
      "metadata": {
        "id": "view-in-github",
        "colab_type": "text"
      },
      "source": [
        "<a href=\"https://colab.research.google.com/github/RushilPatel0703/ACML_Project/blob/tristen/ACML_Project_Draft.ipynb\" target=\"_parent\"><img src=\"https://colab.research.google.com/assets/colab-badge.svg\" alt=\"Open In Colab\"/></a>"
      ]
    },
    {
      "cell_type": "code",
      "source": [
        "# importing the libraries\n",
        "import numpy as np\n",
        "import matplotlib.pyplot as plt\n",
        "import pandas as pd\n",
        "import seaborn as sns"
      ],
      "metadata": {
        "id": "g2qz_28NOCWo"
      },
      "execution_count": 39,
      "outputs": []
    },
    {
      "cell_type": "code",
      "source": [
        "url = 'https://raw.githubusercontent.com/RushilPatel0703/ACML_Project/main/data.csv'\n",
        "data = pd.read_csv(url)"
      ],
      "metadata": {
        "id": "1ZOLP9spUWna"
      },
      "execution_count": 40,
      "outputs": []
    },
    {
      "cell_type": "code",
      "source": [
        "data.head()"
      ],
      "metadata": {
        "colab": {
          "base_uri": "https://localhost:8080/",
          "height": 386
        },
        "id": "BpfiV-OlN_6E",
        "outputId": "1c13860b-023b-407c-ee47-ce2d9043e987"
      },
      "execution_count": 41,
      "outputs": [
        {
          "output_type": "execute_result",
          "data": {
            "text/plain": [
              "   Bankrupt?   ROA(C) before interest and depreciation before interest  \\\n",
              "0          1                                           0.370594          \n",
              "1          1                                           0.464291          \n",
              "2          1                                           0.426071          \n",
              "3          1                                           0.399844          \n",
              "4          1                                           0.465022          \n",
              "\n",
              "    ROA(A) before interest and % after tax  \\\n",
              "0                                 0.424389   \n",
              "1                                 0.538214   \n",
              "2                                 0.499019   \n",
              "3                                 0.451265   \n",
              "4                                 0.538432   \n",
              "\n",
              "    ROA(B) before interest and depreciation after tax  \\\n",
              "0                                           0.405750    \n",
              "1                                           0.516730    \n",
              "2                                           0.472295    \n",
              "3                                           0.457733    \n",
              "4                                           0.522298    \n",
              "\n",
              "    Operating Gross Margin   Realized Sales Gross Margin  \\\n",
              "0                 0.601457                      0.601457   \n",
              "1                 0.610235                      0.610235   \n",
              "2                 0.601450                      0.601364   \n",
              "3                 0.583541                      0.583541   \n",
              "4                 0.598783                      0.598783   \n",
              "\n",
              "    Operating Profit Rate   Pre-tax net Interest Rate  \\\n",
              "0                0.998969                    0.796887   \n",
              "1                0.998946                    0.797380   \n",
              "2                0.998857                    0.796403   \n",
              "3                0.998700                    0.796967   \n",
              "4                0.998973                    0.797366   \n",
              "\n",
              "    After-tax net Interest Rate   Non-industry income and expenditure/revenue  \\\n",
              "0                      0.808809                                      0.302646   \n",
              "1                      0.809301                                      0.303556   \n",
              "2                      0.808388                                      0.302035   \n",
              "3                      0.808966                                      0.303350   \n",
              "4                      0.809304                                      0.303475   \n",
              "\n",
              "   ...   Net Income to Total Assets   Total assets to GNP price  \\\n",
              "0  ...                     0.716845                    0.009219   \n",
              "1  ...                     0.795297                    0.008323   \n",
              "2  ...                     0.774670                    0.040003   \n",
              "3  ...                     0.739555                    0.003252   \n",
              "4  ...                     0.795016                    0.003878   \n",
              "\n",
              "    No-credit Interval   Gross Profit to Sales  \\\n",
              "0             0.622879                0.601453   \n",
              "1             0.623652                0.610237   \n",
              "2             0.623841                0.601449   \n",
              "3             0.622929                0.583538   \n",
              "4             0.623521                0.598782   \n",
              "\n",
              "    Net Income to Stockholder's Equity   Liability to Equity  \\\n",
              "0                             0.827890              0.290202   \n",
              "1                             0.839969              0.283846   \n",
              "2                             0.836774              0.290189   \n",
              "3                             0.834697              0.281721   \n",
              "4                             0.839973              0.278514   \n",
              "\n",
              "    Degree of Financial Leverage (DFL)  \\\n",
              "0                             0.026601   \n",
              "1                             0.264577   \n",
              "2                             0.026555   \n",
              "3                             0.026697   \n",
              "4                             0.024752   \n",
              "\n",
              "    Interest Coverage Ratio (Interest expense to EBIT)   Net Income Flag  \\\n",
              "0                                           0.564050                   1   \n",
              "1                                           0.570175                   1   \n",
              "2                                           0.563706                   1   \n",
              "3                                           0.564663                   1   \n",
              "4                                           0.575617                   1   \n",
              "\n",
              "    Equity to Liability  \n",
              "0              0.016469  \n",
              "1              0.020794  \n",
              "2              0.016474  \n",
              "3              0.023982  \n",
              "4              0.035490  \n",
              "\n",
              "[5 rows x 96 columns]"
            ],
            "text/html": [
              "\n",
              "  <div id=\"df-f02ac82e-5a28-4e3d-8cb7-c159e95f47a0\">\n",
              "    <div class=\"colab-df-container\">\n",
              "      <div>\n",
              "<style scoped>\n",
              "    .dataframe tbody tr th:only-of-type {\n",
              "        vertical-align: middle;\n",
              "    }\n",
              "\n",
              "    .dataframe tbody tr th {\n",
              "        vertical-align: top;\n",
              "    }\n",
              "\n",
              "    .dataframe thead th {\n",
              "        text-align: right;\n",
              "    }\n",
              "</style>\n",
              "<table border=\"1\" class=\"dataframe\">\n",
              "  <thead>\n",
              "    <tr style=\"text-align: right;\">\n",
              "      <th></th>\n",
              "      <th>Bankrupt?</th>\n",
              "      <th>ROA(C) before interest and depreciation before interest</th>\n",
              "      <th>ROA(A) before interest and % after tax</th>\n",
              "      <th>ROA(B) before interest and depreciation after tax</th>\n",
              "      <th>Operating Gross Margin</th>\n",
              "      <th>Realized Sales Gross Margin</th>\n",
              "      <th>Operating Profit Rate</th>\n",
              "      <th>Pre-tax net Interest Rate</th>\n",
              "      <th>After-tax net Interest Rate</th>\n",
              "      <th>Non-industry income and expenditure/revenue</th>\n",
              "      <th>...</th>\n",
              "      <th>Net Income to Total Assets</th>\n",
              "      <th>Total assets to GNP price</th>\n",
              "      <th>No-credit Interval</th>\n",
              "      <th>Gross Profit to Sales</th>\n",
              "      <th>Net Income to Stockholder's Equity</th>\n",
              "      <th>Liability to Equity</th>\n",
              "      <th>Degree of Financial Leverage (DFL)</th>\n",
              "      <th>Interest Coverage Ratio (Interest expense to EBIT)</th>\n",
              "      <th>Net Income Flag</th>\n",
              "      <th>Equity to Liability</th>\n",
              "    </tr>\n",
              "  </thead>\n",
              "  <tbody>\n",
              "    <tr>\n",
              "      <th>0</th>\n",
              "      <td>1</td>\n",
              "      <td>0.370594</td>\n",
              "      <td>0.424389</td>\n",
              "      <td>0.405750</td>\n",
              "      <td>0.601457</td>\n",
              "      <td>0.601457</td>\n",
              "      <td>0.998969</td>\n",
              "      <td>0.796887</td>\n",
              "      <td>0.808809</td>\n",
              "      <td>0.302646</td>\n",
              "      <td>...</td>\n",
              "      <td>0.716845</td>\n",
              "      <td>0.009219</td>\n",
              "      <td>0.622879</td>\n",
              "      <td>0.601453</td>\n",
              "      <td>0.827890</td>\n",
              "      <td>0.290202</td>\n",
              "      <td>0.026601</td>\n",
              "      <td>0.564050</td>\n",
              "      <td>1</td>\n",
              "      <td>0.016469</td>\n",
              "    </tr>\n",
              "    <tr>\n",
              "      <th>1</th>\n",
              "      <td>1</td>\n",
              "      <td>0.464291</td>\n",
              "      <td>0.538214</td>\n",
              "      <td>0.516730</td>\n",
              "      <td>0.610235</td>\n",
              "      <td>0.610235</td>\n",
              "      <td>0.998946</td>\n",
              "      <td>0.797380</td>\n",
              "      <td>0.809301</td>\n",
              "      <td>0.303556</td>\n",
              "      <td>...</td>\n",
              "      <td>0.795297</td>\n",
              "      <td>0.008323</td>\n",
              "      <td>0.623652</td>\n",
              "      <td>0.610237</td>\n",
              "      <td>0.839969</td>\n",
              "      <td>0.283846</td>\n",
              "      <td>0.264577</td>\n",
              "      <td>0.570175</td>\n",
              "      <td>1</td>\n",
              "      <td>0.020794</td>\n",
              "    </tr>\n",
              "    <tr>\n",
              "      <th>2</th>\n",
              "      <td>1</td>\n",
              "      <td>0.426071</td>\n",
              "      <td>0.499019</td>\n",
              "      <td>0.472295</td>\n",
              "      <td>0.601450</td>\n",
              "      <td>0.601364</td>\n",
              "      <td>0.998857</td>\n",
              "      <td>0.796403</td>\n",
              "      <td>0.808388</td>\n",
              "      <td>0.302035</td>\n",
              "      <td>...</td>\n",
              "      <td>0.774670</td>\n",
              "      <td>0.040003</td>\n",
              "      <td>0.623841</td>\n",
              "      <td>0.601449</td>\n",
              "      <td>0.836774</td>\n",
              "      <td>0.290189</td>\n",
              "      <td>0.026555</td>\n",
              "      <td>0.563706</td>\n",
              "      <td>1</td>\n",
              "      <td>0.016474</td>\n",
              "    </tr>\n",
              "    <tr>\n",
              "      <th>3</th>\n",
              "      <td>1</td>\n",
              "      <td>0.399844</td>\n",
              "      <td>0.451265</td>\n",
              "      <td>0.457733</td>\n",
              "      <td>0.583541</td>\n",
              "      <td>0.583541</td>\n",
              "      <td>0.998700</td>\n",
              "      <td>0.796967</td>\n",
              "      <td>0.808966</td>\n",
              "      <td>0.303350</td>\n",
              "      <td>...</td>\n",
              "      <td>0.739555</td>\n",
              "      <td>0.003252</td>\n",
              "      <td>0.622929</td>\n",
              "      <td>0.583538</td>\n",
              "      <td>0.834697</td>\n",
              "      <td>0.281721</td>\n",
              "      <td>0.026697</td>\n",
              "      <td>0.564663</td>\n",
              "      <td>1</td>\n",
              "      <td>0.023982</td>\n",
              "    </tr>\n",
              "    <tr>\n",
              "      <th>4</th>\n",
              "      <td>1</td>\n",
              "      <td>0.465022</td>\n",
              "      <td>0.538432</td>\n",
              "      <td>0.522298</td>\n",
              "      <td>0.598783</td>\n",
              "      <td>0.598783</td>\n",
              "      <td>0.998973</td>\n",
              "      <td>0.797366</td>\n",
              "      <td>0.809304</td>\n",
              "      <td>0.303475</td>\n",
              "      <td>...</td>\n",
              "      <td>0.795016</td>\n",
              "      <td>0.003878</td>\n",
              "      <td>0.623521</td>\n",
              "      <td>0.598782</td>\n",
              "      <td>0.839973</td>\n",
              "      <td>0.278514</td>\n",
              "      <td>0.024752</td>\n",
              "      <td>0.575617</td>\n",
              "      <td>1</td>\n",
              "      <td>0.035490</td>\n",
              "    </tr>\n",
              "  </tbody>\n",
              "</table>\n",
              "<p>5 rows × 96 columns</p>\n",
              "</div>\n",
              "      <button class=\"colab-df-convert\" onclick=\"convertToInteractive('df-f02ac82e-5a28-4e3d-8cb7-c159e95f47a0')\"\n",
              "              title=\"Convert this dataframe to an interactive table.\"\n",
              "              style=\"display:none;\">\n",
              "        \n",
              "  <svg xmlns=\"http://www.w3.org/2000/svg\" height=\"24px\"viewBox=\"0 0 24 24\"\n",
              "       width=\"24px\">\n",
              "    <path d=\"M0 0h24v24H0V0z\" fill=\"none\"/>\n",
              "    <path d=\"M18.56 5.44l.94 2.06.94-2.06 2.06-.94-2.06-.94-.94-2.06-.94 2.06-2.06.94zm-11 1L8.5 8.5l.94-2.06 2.06-.94-2.06-.94L8.5 2.5l-.94 2.06-2.06.94zm10 10l.94 2.06.94-2.06 2.06-.94-2.06-.94-.94-2.06-.94 2.06-2.06.94z\"/><path d=\"M17.41 7.96l-1.37-1.37c-.4-.4-.92-.59-1.43-.59-.52 0-1.04.2-1.43.59L10.3 9.45l-7.72 7.72c-.78.78-.78 2.05 0 2.83L4 21.41c.39.39.9.59 1.41.59.51 0 1.02-.2 1.41-.59l7.78-7.78 2.81-2.81c.8-.78.8-2.07 0-2.86zM5.41 20L4 18.59l7.72-7.72 1.47 1.35L5.41 20z\"/>\n",
              "  </svg>\n",
              "      </button>\n",
              "      \n",
              "  <style>\n",
              "    .colab-df-container {\n",
              "      display:flex;\n",
              "      flex-wrap:wrap;\n",
              "      gap: 12px;\n",
              "    }\n",
              "\n",
              "    .colab-df-convert {\n",
              "      background-color: #E8F0FE;\n",
              "      border: none;\n",
              "      border-radius: 50%;\n",
              "      cursor: pointer;\n",
              "      display: none;\n",
              "      fill: #1967D2;\n",
              "      height: 32px;\n",
              "      padding: 0 0 0 0;\n",
              "      width: 32px;\n",
              "    }\n",
              "\n",
              "    .colab-df-convert:hover {\n",
              "      background-color: #E2EBFA;\n",
              "      box-shadow: 0px 1px 2px rgba(60, 64, 67, 0.3), 0px 1px 3px 1px rgba(60, 64, 67, 0.15);\n",
              "      fill: #174EA6;\n",
              "    }\n",
              "\n",
              "    [theme=dark] .colab-df-convert {\n",
              "      background-color: #3B4455;\n",
              "      fill: #D2E3FC;\n",
              "    }\n",
              "\n",
              "    [theme=dark] .colab-df-convert:hover {\n",
              "      background-color: #434B5C;\n",
              "      box-shadow: 0px 1px 3px 1px rgba(0, 0, 0, 0.15);\n",
              "      filter: drop-shadow(0px 1px 2px rgba(0, 0, 0, 0.3));\n",
              "      fill: #FFFFFF;\n",
              "    }\n",
              "  </style>\n",
              "\n",
              "      <script>\n",
              "        const buttonEl =\n",
              "          document.querySelector('#df-f02ac82e-5a28-4e3d-8cb7-c159e95f47a0 button.colab-df-convert');\n",
              "        buttonEl.style.display =\n",
              "          google.colab.kernel.accessAllowed ? 'block' : 'none';\n",
              "\n",
              "        async function convertToInteractive(key) {\n",
              "          const element = document.querySelector('#df-f02ac82e-5a28-4e3d-8cb7-c159e95f47a0');\n",
              "          const dataTable =\n",
              "            await google.colab.kernel.invokeFunction('convertToInteractive',\n",
              "                                                     [key], {});\n",
              "          if (!dataTable) return;\n",
              "\n",
              "          const docLinkHtml = 'Like what you see? Visit the ' +\n",
              "            '<a target=\"_blank\" href=https://colab.research.google.com/notebooks/data_table.ipynb>data table notebook</a>'\n",
              "            + ' to learn more about interactive tables.';\n",
              "          element.innerHTML = '';\n",
              "          dataTable['output_type'] = 'display_data';\n",
              "          await google.colab.output.renderOutput(dataTable, element);\n",
              "          const docLink = document.createElement('div');\n",
              "          docLink.innerHTML = docLinkHtml;\n",
              "          element.appendChild(docLink);\n",
              "        }\n",
              "      </script>\n",
              "    </div>\n",
              "  </div>\n",
              "  "
            ]
          },
          "metadata": {},
          "execution_count": 41
        }
      ]
    },
    {
      "cell_type": "markdown",
      "source": [
        "In the data table above, the Bankrupsy status is represented as binary values since either the result is bankrupt or not, thus 1 represents a yes and 0 represents a no. "
      ],
      "metadata": {
        "id": "fHqZylnfF66Y"
      }
    },
    {
      "cell_type": "code",
      "source": [
        "X = data.drop('Bankrupt?',axis=1)\n",
        "y = data['Bankrupt?']\n",
        "print(\"Input values:\\n\", X)"
      ],
      "metadata": {
        "id": "J0E-PbofUyvi",
        "outputId": "31d6d108-c449-4541-adfc-cab90792a7be",
        "colab": {
          "base_uri": "https://localhost:8080/"
        }
      },
      "execution_count": 42,
      "outputs": [
        {
          "output_type": "stream",
          "name": "stdout",
          "text": [
            "Input values:\n",
            "        ROA(C) before interest and depreciation before interest  \\\n",
            "0                                              0.370594          \n",
            "1                                              0.464291          \n",
            "2                                              0.426071          \n",
            "3                                              0.399844          \n",
            "4                                              0.465022          \n",
            "...                                                 ...          \n",
            "6814                                           0.493687          \n",
            "6815                                           0.475162          \n",
            "6816                                           0.472725          \n",
            "6817                                           0.506264          \n",
            "6818                                           0.493053          \n",
            "\n",
            "       ROA(A) before interest and % after tax  \\\n",
            "0                                    0.424389   \n",
            "1                                    0.538214   \n",
            "2                                    0.499019   \n",
            "3                                    0.451265   \n",
            "4                                    0.538432   \n",
            "...                                       ...   \n",
            "6814                                 0.539468   \n",
            "6815                                 0.538269   \n",
            "6816                                 0.533744   \n",
            "6817                                 0.559911   \n",
            "6818                                 0.570105   \n",
            "\n",
            "       ROA(B) before interest and depreciation after tax  \\\n",
            "0                                              0.405750    \n",
            "1                                              0.516730    \n",
            "2                                              0.472295    \n",
            "3                                              0.457733    \n",
            "4                                              0.522298    \n",
            "...                                                 ...    \n",
            "6814                                           0.543230    \n",
            "6815                                           0.524172    \n",
            "6816                                           0.520638    \n",
            "6817                                           0.554045    \n",
            "6818                                           0.549548    \n",
            "\n",
            "       Operating Gross Margin   Realized Sales Gross Margin  \\\n",
            "0                    0.601457                      0.601457   \n",
            "1                    0.610235                      0.610235   \n",
            "2                    0.601450                      0.601364   \n",
            "3                    0.583541                      0.583541   \n",
            "4                    0.598783                      0.598783   \n",
            "...                       ...                           ...   \n",
            "6814                 0.604455                      0.604462   \n",
            "6815                 0.598308                      0.598308   \n",
            "6816                 0.610444                      0.610213   \n",
            "6817                 0.607850                      0.607850   \n",
            "6818                 0.627409                      0.627409   \n",
            "\n",
            "       Operating Profit Rate   Pre-tax net Interest Rate  \\\n",
            "0                   0.998969                    0.796887   \n",
            "1                   0.998946                    0.797380   \n",
            "2                   0.998857                    0.796403   \n",
            "3                   0.998700                    0.796967   \n",
            "4                   0.998973                    0.797366   \n",
            "...                      ...                         ...   \n",
            "6814                0.998992                    0.797409   \n",
            "6815                0.998992                    0.797414   \n",
            "6816                0.998984                    0.797401   \n",
            "6817                0.999074                    0.797500   \n",
            "6818                0.998080                    0.801987   \n",
            "\n",
            "       After-tax net Interest Rate  \\\n",
            "0                         0.808809   \n",
            "1                         0.809301   \n",
            "2                         0.808388   \n",
            "3                         0.808966   \n",
            "4                         0.809304   \n",
            "...                            ...   \n",
            "6814                      0.809331   \n",
            "6815                      0.809327   \n",
            "6816                      0.809317   \n",
            "6817                      0.809399   \n",
            "6818                      0.813800   \n",
            "\n",
            "       Non-industry income and expenditure/revenue  \\\n",
            "0                                         0.302646   \n",
            "1                                         0.303556   \n",
            "2                                         0.302035   \n",
            "3                                         0.303350   \n",
            "4                                         0.303475   \n",
            "...                                            ...   \n",
            "6814                                      0.303510   \n",
            "6815                                      0.303520   \n",
            "6816                                      0.303512   \n",
            "6817                                      0.303498   \n",
            "6818                                      0.313415   \n",
            "\n",
            "       Continuous interest rate (after tax)  ...   Net Income to Total Assets  \\\n",
            "0                                  0.780985  ...                     0.716845   \n",
            "1                                  0.781506  ...                     0.795297   \n",
            "2                                  0.780284  ...                     0.774670   \n",
            "3                                  0.781241  ...                     0.739555   \n",
            "4                                  0.781550  ...                     0.795016   \n",
            "...                                     ...  ...                          ...   \n",
            "6814                               0.781588  ...                     0.799927   \n",
            "6815                               0.781586  ...                     0.799748   \n",
            "6816                               0.781546  ...                     0.797778   \n",
            "6817                               0.781663  ...                     0.811808   \n",
            "6818                               0.786079  ...                     0.815956   \n",
            "\n",
            "       Total assets to GNP price   No-credit Interval   Gross Profit to Sales  \\\n",
            "0                       0.009219             0.622879                0.601453   \n",
            "1                       0.008323             0.623652                0.610237   \n",
            "2                       0.040003             0.623841                0.601449   \n",
            "3                       0.003252             0.622929                0.583538   \n",
            "4                       0.003878             0.623521                0.598782   \n",
            "...                          ...                  ...                     ...   \n",
            "6814                    0.000466             0.623620                0.604455   \n",
            "6815                    0.001959             0.623931                0.598306   \n",
            "6816                    0.002840             0.624156                0.610441   \n",
            "6817                    0.002837             0.623957                0.607846   \n",
            "6818                    0.000707             0.626680                0.627408   \n",
            "\n",
            "       Net Income to Stockholder's Equity   Liability to Equity  \\\n",
            "0                                0.827890              0.290202   \n",
            "1                                0.839969              0.283846   \n",
            "2                                0.836774              0.290189   \n",
            "3                                0.834697              0.281721   \n",
            "4                                0.839973              0.278514   \n",
            "...                                   ...                   ...   \n",
            "6814                             0.840359              0.279606   \n",
            "6815                             0.840306              0.278132   \n",
            "6816                             0.840138              0.275789   \n",
            "6817                             0.841084              0.277547   \n",
            "6818                             0.841019              0.275114   \n",
            "\n",
            "       Degree of Financial Leverage (DFL)  \\\n",
            "0                                0.026601   \n",
            "1                                0.264577   \n",
            "2                                0.026555   \n",
            "3                                0.026697   \n",
            "4                                0.024752   \n",
            "...                                   ...   \n",
            "6814                             0.027064   \n",
            "6815                             0.027009   \n",
            "6816                             0.026791   \n",
            "6817                             0.026822   \n",
            "6818                             0.026793   \n",
            "\n",
            "       Interest Coverage Ratio (Interest expense to EBIT)   Net Income Flag  \\\n",
            "0                                              0.564050                   1   \n",
            "1                                              0.570175                   1   \n",
            "2                                              0.563706                   1   \n",
            "3                                              0.564663                   1   \n",
            "4                                              0.575617                   1   \n",
            "...                                                 ...                 ...   \n",
            "6814                                           0.566193                   1   \n",
            "6815                                           0.566018                   1   \n",
            "6816                                           0.565158                   1   \n",
            "6817                                           0.565302                   1   \n",
            "6818                                           0.565167                   1   \n",
            "\n",
            "       Equity to Liability  \n",
            "0                 0.016469  \n",
            "1                 0.020794  \n",
            "2                 0.016474  \n",
            "3                 0.023982  \n",
            "4                 0.035490  \n",
            "...                    ...  \n",
            "6814              0.029890  \n",
            "6815              0.038284  \n",
            "6816              0.097649  \n",
            "6817              0.044009  \n",
            "6818              0.233902  \n",
            "\n",
            "[6819 rows x 95 columns]\n"
          ]
        }
      ]
    },
    {
      "cell_type": "code",
      "source": [
        "print(\"Output values:\\n\", y)"
      ],
      "metadata": {
        "id": "k7E2ueugFsv4",
        "outputId": "1257f890-a901-4865-d4f7-6c03dba32a41",
        "colab": {
          "base_uri": "https://localhost:8080/"
        }
      },
      "execution_count": 43,
      "outputs": [
        {
          "output_type": "stream",
          "name": "stdout",
          "text": [
            "Output values:\n",
            " 0       1\n",
            "1       1\n",
            "2       1\n",
            "3       1\n",
            "4       1\n",
            "       ..\n",
            "6814    0\n",
            "6815    0\n",
            "6816    0\n",
            "6817    0\n",
            "6818    0\n",
            "Name: Bankrupt?, Length: 6819, dtype: int64\n"
          ]
        }
      ]
    },
    {
      "cell_type": "code",
      "source": [
        "# training and testing data\n",
        "from sklearn.model_selection import train_test_split\n",
        "\n",
        "# assign test data size 20%\n",
        "X_train, X_test, y_train, y_test =train_test_split(X,y,test_size= 0.2, random_state=0)"
      ],
      "metadata": {
        "id": "Q7l1-oOhPfeo"
      },
      "execution_count": 44,
      "outputs": []
    },
    {
      "cell_type": "code",
      "source": [
        "# importing standard scaler\n",
        "from sklearn.preprocessing import StandardScaler\n",
        "\n",
        "# scalling the input data\n",
        "sc_X = StandardScaler() \n",
        "X_train = sc_X.fit_transform(X_train)\n",
        "X_test = sc_X.fit_transform(X_test)"
      ],
      "metadata": {
        "id": "JAxngMCxwJ4x"
      },
      "execution_count": 45,
      "outputs": []
    },
    {
      "cell_type": "markdown",
      "source": [
        "What is the Naive Bayes Implementation: \n",
        "\n",
        "Naive Bayes classifier assumes that the effect of a particular feature in a class is independent of other features and is based on Bayes’ theorem. Bayes’ theorem is a mathematical equation used in probability and statistics to calculate conditional probability. In other words, you can use this theorem to calculate the probability of an event based on its association with another event."
      ],
      "metadata": {
        "id": "WliUjf2LEK9h"
      }
    },
    {
      "cell_type": "markdown",
      "source": [
        "The simple formula of Bayes theorem is:\n",
        "\n",
        "P(A|B) = (P(B|A)*P(A))/P(B)\n",
        "\n",
        "naive-bayes-classifition-using-python-formula\n",
        "Where P(A) and P(B) are two independent events and (B) is not equal to zero."
      ],
      "metadata": {
        "id": "kq-A7dWsEcwl"
      }
    },
    {
      "cell_type": "markdown",
      "source": [
        "The Naive Bayes classification algorithm is a probabilistic classifier, and it belongs to Supervised Learning. It is based on probability models that incorporate strong independence assumptions. The independence assumptions often do not have an impact on reality. Therefore they are considered naive."
      ],
      "metadata": {
        "id": "LAUdaJWaExPv"
      }
    },
    {
      "cell_type": "markdown",
      "source": [
        ""
      ],
      "metadata": {
        "id": "wWEIhRRyEJhF"
      }
    },
    {
      "cell_type": "code",
      "source": [
        "# importing Bernoulli classifier\n",
        "from sklearn.naive_bayes import BernoulliNB\n",
        "\n",
        "# initializaing the NB\n",
        "classifer = BernoulliNB(alpha=0.2,fit_prior=True)\n",
        "\n",
        "# training the model\n",
        "classifer.fit(X_train, y_train)\n",
        "\n",
        "# testing the model\n",
        "y_pred = classifer.predict(X_test)"
      ],
      "metadata": {
        "id": "0ay4QHJ1wJxK"
      },
      "execution_count": 46,
      "outputs": []
    },
    {
      "cell_type": "markdown",
      "source": [
        "The Bernoulli Naive Bayes is a part of the family of Naive Bayes. It only takes binary values. There may be multiple features, but each is assumed to be a binary-valued (Bernoulli, boolean) variable. Therefore, this class requires samples to be represented as binary-valued feature vectors."
      ],
      "metadata": {
        "id": "xcrflGIaE6VD"
      }
    },
    {
      "cell_type": "code",
      "source": [
        "print(y_pred)"
      ],
      "metadata": {
        "id": "qa8Ivw7jKvUJ",
        "outputId": "841eda59-78eb-4bdf-ab21-c4eb3da6d1f2",
        "colab": {
          "base_uri": "https://localhost:8080/"
        }
      },
      "execution_count": 58,
      "outputs": [
        {
          "output_type": "stream",
          "name": "stdout",
          "text": [
            "[1 0 0 ... 0 0 0]\n"
          ]
        }
      ]
    },
    {
      "cell_type": "code",
      "source": [
        "import matplotlib.pyplot as plt\n",
        "import numpy as np\n",
        "\n",
        "plt.scatter(range(len(y_test)), y_test, color='blue')\n",
        "plt.show()"
      ],
      "metadata": {
        "id": "hAJD4ybQGei_",
        "outputId": "4f76128b-8fb9-4778-e52c-a0c9958043ca",
        "colab": {
          "base_uri": "https://localhost:8080/",
          "height": 265
        }
      },
      "execution_count": 54,
      "outputs": [
        {
          "output_type": "display_data",
          "data": {
            "text/plain": [
              "<Figure size 432x288 with 1 Axes>"
            ],
            "image/png": "[encoded data removed]"
          },
          "metadata": {
            "needs_background": "light"
          }
        }
      ]
    },
    {
      "cell_type": "markdown",
      "source": [
        "Above is shown a graph of the test output values results, in comparrison to the predicted outputted results shown in the plot below. \n",
        "\n",
        "It can be seen that the predicted values follow in the same suit as the original outcomes. "
      ],
      "metadata": {
        "id": "LTUDzgTeJMO0"
      }
    },
    {
      "cell_type": "code",
      "source": [
        "plt.scatter(range(len(y_pred)), y_pred, color='red')\n",
        "plt.show()"
      ],
      "metadata": {
        "id": "0y3CqTHMIqt7",
        "outputId": "72eefb83-7b20-42c0-c37d-fe2254f9916c",
        "colab": {
          "base_uri": "https://localhost:8080/",
          "height": 265
        }
      },
      "execution_count": 53,
      "outputs": [
        {
          "output_type": "display_data",
          "data": {
            "text/plain": [
              "<Figure size 432x288 with 1 Axes>"
            ],
            "image/png": "[encoded data removed]"
          },
          "metadata": {
            "needs_background": "light"
          }
        }
      ]
    },
    {
      "cell_type": "code",
      "source": [
        "# importing accuracy score\n",
        "from sklearn.metrics import accuracy_score\n",
        "\n",
        "# printing the accuracy of the model\n",
        "print(accuracy_score(y_pred, y_test)*100) # multiplied by 100 to get the percentage"
      ],
      "metadata": {
        "id": "2kEgoSC5wJjs",
        "outputId": "01ada1f6-fe27-47c2-c848-c2ff67e4d2f2",
        "colab": {
          "base_uri": "https://localhost:8080/"
        }
      },
      "execution_count": 56,
      "outputs": [
        {
          "output_type": "stream",
          "name": "stdout",
          "text": [
            "69.72140762463343\n"
          ]
        }
      ]
    },
    {
      "cell_type": "markdown",
      "source": [
        "The result shown above is the calculated accuracy of the model. As can be seen from above the results of the models predictions, using Naive Bayes implementation with Bernoulli's classifier, are roughly 70% accurate. "
      ],
      "metadata": {
        "id": "Z0l-KCOTJ00t"
      }
    },
    {
      "cell_type": "markdown",
      "source": [
        "**Now, we use Gaussian classifer for the Naive Bayes implementation for comparrison below:**"
      ],
      "metadata": {
        "id": "1Y6ROxuoKTAM"
      }
    },
    {
      "cell_type": "code",
      "source": [
        "# import Gaussian Naive Bayes classifier\n",
        "from sklearn.naive_bayes import GaussianNB\n",
        "\n",
        "# create a Gaussian Classifier\n",
        "classifer1 = GaussianNB(var_smoothing =0.5)\n",
        "\n",
        "# training the model\n",
        "classifer1.fit(X_train, y_train)\n",
        "\n",
        "# testing the model\n",
        "y_pred1 = classifer1.predict(X_test)"
      ],
      "metadata": {
        "id": "9B2rv_8Wwjl_"
      },
      "execution_count": 20,
      "outputs": []
    },
    {
      "cell_type": "markdown",
      "source": [
        "The Gaussian Naive Bayes is a variant of Naive Bayes that follows Gaussian normal distribution and supports continuous data. To build a simple model using Gaussian Naive Bayes, we assume the data is characterized by a Gaussian distribution with no covariance (independent dimensions) between the parameters. This model may be fit simply by calculating the mean and standard deviation of the points within each label."
      ],
      "metadata": {
        "id": "mCuTzttEFJlK"
      }
    },
    {
      "cell_type": "code",
      "source": [
        "print(y_pred1)"
      ],
      "metadata": {
        "id": "_z-WGGk_KprT",
        "outputId": "a1480a74-dd19-4f87-aa8b-41101780261a",
        "colab": {
          "base_uri": "https://localhost:8080/"
        }
      },
      "execution_count": 57,
      "outputs": [
        {
          "output_type": "stream",
          "name": "stdout",
          "text": [
            "[0 0 0 ... 0 1 0]\n"
          ]
        }
      ]
    },
    {
      "cell_type": "markdown",
      "source": [
        "Below is a plot of the predicted results using gaussian classifier "
      ],
      "metadata": {
        "id": "pgpw9WuyK_KE"
      }
    },
    {
      "cell_type": "code",
      "source": [
        "plt.scatter(range(len(y_pred1)), y_pred1, color='red')\n",
        "plt.show()"
      ],
      "metadata": {
        "id": "0JW39LuEK0rd",
        "outputId": "eb169b45-e47a-41dc-bd55-fd1877e6be88",
        "colab": {
          "base_uri": "https://localhost:8080/",
          "height": 265
        }
      },
      "execution_count": 59,
      "outputs": [
        {
          "output_type": "display_data",
          "data": {
            "text/plain": [
              "<Figure size 432x288 with 1 Axes>"
            ],
            "image/png": "[encoded data removed]"
          },
          "metadata": {
            "needs_background": "light"
          }
        }
      ]
    },
    {
      "cell_type": "code",
      "source": [
        "# importing accuracy score\n",
        "from sklearn.metrics import accuracy_score\n",
        "\n",
        "# printing the accuracy of the model\n",
        "print(accuracy_score(y_test,y_pred1)* 100)"
      ],
      "metadata": {
        "id": "k0D819gWwmRw",
        "outputId": "1729d67c-e608-4d23-cfd8-6f66d7268742",
        "colab": {
          "base_uri": "https://localhost:8080/"
        }
      },
      "execution_count": 61,
      "outputs": [
        {
          "output_type": "stream",
          "name": "stdout",
          "text": [
            "95.01466275659824\n"
          ]
        }
      ]
    },
    {
      "cell_type": "markdown",
      "source": [
        "As can be seen above by the accuracy result of 95%, this model is significantly more accurate in making predictions than the Bernoulli classifier was in the previous implementation."
      ],
      "metadata": {
        "id": "r-ULi1ucLIfi"
      }
    },
    {
      "cell_type": "markdown",
      "source": [
        "**Diagramatic and tabulated accuracy results can be seen below for both the Bernoulli and Gaussian implementation respectively.**"
      ],
      "metadata": {
        "id": "QZdp9iMSNHjz"
      }
    },
    {
      "cell_type": "code",
      "source": [
        "# importing the required modules\n",
        "import seaborn as sns\n",
        "from sklearn.metrics import confusion_matrix\n",
        "\n",
        "# passing actual and predicted values\n",
        "cm = confusion_matrix(y_test, y_pred)\n",
        "\n",
        "# true write data values in each cell of the matrix\n",
        "sns.heatmap(cm, annot=True)\n",
        "plt.savefig('confusion.png')\n",
        "print(\"Confusion matrix result for Bernoulli classifier:\\n\", cm)"
      ],
      "metadata": {
        "id": "9QtXfR6mwrbb",
        "outputId": "ea83e92c-a7ea-4c23-fcdd-5e9f657ad61c",
        "colab": {
          "base_uri": "https://localhost:8080/",
          "height": 317
        }
      },
      "execution_count": 67,
      "outputs": [
        {
          "output_type": "stream",
          "name": "stdout",
          "text": [
            "Confusion matrix result for Bernoulli classifier:\n",
            " [[909 409]\n",
            " [  4  42]]\n"
          ]
        },
        {
          "output_type": "display_data",
          "data": {
            "text/plain": [
              "<Figure size 432x288 with 2 Axes>"
            ],
            "image/png": "[encoded data removed]"
          },
          "metadata": {
            "needs_background": "light"
          }
        }
      ]
    },
    {
      "cell_type": "markdown",
      "source": [
        "A confusion matrix is a tabular summary of the number of correct and incorrect predictions made by a classifier. It is used to measure the performance of a classification model. It can be used to evaluate the performance of a classification model through the calculation of performance metrics like accuracy, precision, recall, and F1-score."
      ],
      "metadata": {
        "id": "cFkRsD4FL4y3"
      }
    },
    {
      "cell_type": "markdown",
      "source": [
        "**Below is a table showing the results of the implementation using the Bernoulli classifier:** \n"
      ],
      "metadata": {
        "id": "4QEzXsZBMoYJ"
      }
    },
    {
      "cell_type": "code",
      "source": [
        "# importing classification report\n",
        "from sklearn.metrics import classification_report\n",
        "\n",
        "# printing the report\n",
        "print(classification_report(y_test, y_pred))"
      ],
      "metadata": {
        "id": "1jnaJ-h3wu4X",
        "outputId": "fdbb9fbe-bf2a-4e51-b8f9-2fcfa68ceacd",
        "colab": {
          "base_uri": "https://localhost:8080/"
        }
      },
      "execution_count": 25,
      "outputs": [
        {
          "output_type": "stream",
          "name": "stdout",
          "text": [
            "              precision    recall  f1-score   support\n",
            "\n",
            "           0       1.00      0.69      0.81      1318\n",
            "           1       0.09      0.91      0.17        46\n",
            "\n",
            "    accuracy                           0.70      1364\n",
            "   macro avg       0.54      0.80      0.49      1364\n",
            "weighted avg       0.97      0.70      0.79      1364\n",
            "\n"
          ]
        }
      ]
    },
    {
      "cell_type": "markdown",
      "source": [
        ""
      ],
      "metadata": {
        "id": "nDK26YnsNxCQ"
      }
    },
    {
      "cell_type": "code",
      "source": [
        "# importing the required modules\n",
        "import seaborn as sns\n",
        "from sklearn.metrics import confusion_matrix\n",
        "\n",
        "# passing actual and predicted values\n",
        "cm = confusion_matrix(y_test, y_pred1)\n",
        "\n",
        "# true write data values in each cell of the matrix\n",
        "sns.heatmap(cm,annot=True)\n",
        "plt.savefig('confusion.png')\n",
        "print(\"Confusion Matric for Gaussian classifier implementation\\n\", cm)"
      ],
      "metadata": {
        "id": "aPIIkTKkwzsq",
        "outputId": "a98273de-9bd5-498b-da22-6c86f586ce2b",
        "colab": {
          "base_uri": "https://localhost:8080/",
          "height": 317
        }
      },
      "execution_count": 68,
      "outputs": [
        {
          "output_type": "stream",
          "name": "stdout",
          "text": [
            "Confusion Matric for Gaussian classifier implementation\n",
            " [[1282   36]\n",
            " [  32   14]]\n"
          ]
        },
        {
          "output_type": "display_data",
          "data": {
            "text/plain": [
              "<Figure size 432x288 with 2 Axes>"
            ],
            "image/png": "[encoded data removed]"
          },
          "metadata": {
            "needs_background": "light"
          }
        }
      ]
    },
    {
      "cell_type": "markdown",
      "source": [
        "**Below is a table showing the results of the implementation using the Gaussian classifier:** \n"
      ],
      "metadata": {
        "id": "XMUoHOE1OJ_n"
      }
    },
    {
      "cell_type": "code",
      "source": [
        "# importing classification report\n",
        "from sklearn.metrics import classification_report\n",
        "\n",
        "# printing the report\n",
        "print(classification_report(y_test, y_pred1))"
      ],
      "metadata": {
        "id": "2yygIgmWw2D5",
        "outputId": "e0806716-03eb-438c-b553-fa14af4ea2d9",
        "colab": {
          "base_uri": "https://localhost:8080/"
        }
      },
      "execution_count": 69,
      "outputs": [
        {
          "output_type": "stream",
          "name": "stdout",
          "text": [
            "              precision    recall  f1-score   support\n",
            "\n",
            "           0       0.98      0.97      0.97      1318\n",
            "           1       0.28      0.30      0.29        46\n",
            "\n",
            "    accuracy                           0.95      1364\n",
            "   macro avg       0.63      0.64      0.63      1364\n",
            "weighted avg       0.95      0.95      0.95      1364\n",
            "\n"
          ]
        }
      ]
    },
    {
      "cell_type": "markdown",
      "source": [
        "From the above implementations and consequnt results, we can see that the Naive bayes implementation using Gaussian classifier produces the better, more accurate predicted outcome"
      ],
      "metadata": {
        "id": "qkHEy7SyOPDl"
      }
    }
  ]
}